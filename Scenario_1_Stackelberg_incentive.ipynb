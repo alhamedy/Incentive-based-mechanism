{
  "nbformat": 4,
  "nbformat_minor": 0,
  "metadata": {
    "colab": {
      "provenance": [],
      "authorship_tag": "ABX9TyMAaqybw5iVQBt1S4ekqAxi",
      "include_colab_link": true
    },
    "kernelspec": {
      "name": "python3",
      "display_name": "Python 3"
    },
    "language_info": {
      "name": "python"
    }
  },
  "cells": [
    {
      "cell_type": "markdown",
      "metadata": {
        "id": "view-in-github",
        "colab_type": "text"
      },
      "source": [
        "<a href=\"https://colab.research.google.com/github/alhamedy/Incentive-based-mechanism/blob/main/Scenario_1_Stackelberg_incentive.ipynb\" target=\"_parent\"><img src=\"https://colab.research.google.com/assets/colab-badge.svg\" alt=\"Open In Colab\"/></a>"
      ]
    },
    {
      "cell_type": "code",
      "execution_count": null,
      "metadata": {
        "colab": {
          "base_uri": "https://localhost:8080/",
          "height": 1000
        },
        "id": "_-fr_gzTt14X",
        "outputId": "8a0f21a1-7b08-48a7-ef95-176926515598"
      },
      "outputs": [
        {
          "output_type": "stream",
          "name": "stdout",
          "text": [
            "Iteration: 1\n",
            "Reward: 1.65, Penalty: -0.42\n",
            "p=1, his old score 0, has new score=0.33, his decision=accept\n",
            "p=2, his old score 1, has new score=1.13, his decision=accept\n",
            "p=3, his old score 6, has new score=5.13, his decision=reject\n",
            "p=4, his old score 3, has new score=2.73, his decision=reject\n",
            "p=5, his old score 4, has new score=3.53, his decision=reject\n",
            "p=6, his old score 5, has new score=4.33, his decision=reject\n",
            "p=7, his old score 6, has new score=5.13, his decision=reject\n",
            "p=8, his old score 0, has new score=0.33, his decision=accept\n",
            "p=9, his old score 1, has new score=1.13, his decision=accept\n",
            "p=10, his old score 2, has new score=1.93, his decision=reject\n",
            "Level of participation: 0.40\n",
            "----------------------------------------------\n",
            "Reward: 1.65, Penalty: -0.42, Participants: 4\n",
            "----------------------------------------------\n",
            "Iteration: 2\n",
            "Reward: 2.01, Penalty: -0.69\n",
            "p=1, his old score 0, has new score=0.40, his decision=accept\n",
            "p=2, his old score 1, has new score=1.20, his decision=accept\n",
            "p=3, his old score 6, has new score=5.20, his decision=reject\n",
            "p=4, his old score 3, has new score=2.80, his decision=reject\n",
            "p=5, his old score 4, has new score=3.60, his decision=reject\n",
            "p=6, his old score 5, has new score=4.40, his decision=reject\n",
            "p=7, his old score 6, has new score=5.20, his decision=reject\n",
            "p=8, his old score 0, has new score=0.40, his decision=accept\n",
            "p=9, his old score 1, has new score=1.20, his decision=accept\n",
            "p=10, his old score 2, has new score=2.00, his decision=accept\n",
            "Level of participation: 0.50\n",
            "----------------------------------------------\n",
            "Reward: 2.01, Penalty: -0.69, Participants: 5\n",
            "----------------------------------------------\n",
            "Reward=2.01 and Penalty=-0.69 is the optimal Nash equilibrium\n",
            "Optimal participants: 5\n",
            "Reward = 2.01 and Penalty = -0.69\n"
          ]
        },
        {
          "output_type": "display_data",
          "data": {
            "text/plain": [
              "<Figure size 640x480 with 1 Axes>"
            ],
            "image/png": "[encoded data removed]"
          },
          "metadata": {}
        }
      ],
      "source": [
        "from numpy.core.numeric import count_nonzero\n",
        "import random\n",
        "import matplotlib.pyplot as plt\n",
        "\n",
        "num_followers = 10\n",
        "min_reputation = 0\n",
        "max_reputation = 6\n",
        "reward_range = (1, 6)\n",
        "penalty_range = (-1.0, 0.0)\n",
        "optimal_participants = 5\n",
        "max_iterations = 100\n",
        "\n",
        "# Initialize the number of participants to 0 and create empty lists to store the results\n",
        "num_participants = 0\n",
        "rewards = []\n",
        "penalties = []\n",
        "num_accepts = []\n",
        "behaviors = []\n",
        "participation_levels = []  # New list to store the level of participation\n",
        "\n",
        "reputation_scores = [0, 1, 6, 3, 4, 5, 6, 0, 1, 2]\n",
        "# reputation_scores = [0, 1, 6, 3, 4, 5, 6, 0, 1, 2, 5, 6, 4, 3, 2]\n",
        "#reputation_scores = [0, 1, 6, 3, 4, 5, 6, 0, 1, 2, 5, 6, 4, 3, 2, 3, 4, 5, 6, 0]\n",
        "\n",
        "# Loop until the optimal number of participants is reached or the maximum number of iterations is reached\n",
        "for iteration in range(max_iterations):\n",
        "    # Generate a new reward and penalty score for the leader\n",
        "    reward = random.uniform(*reward_range)\n",
        "    penalty = random.uniform(*penalty_range)\n",
        "\n",
        "    # Determine the behavior of each follower based on their current reputation score and the reward/penalty\n",
        "    new_scores = []\n",
        "    behaviors = []\n",
        "    print(f\"Iteration: {iteration+1}\")\n",
        "    print(f\"Reward: {reward:.2f}, Penalty: {penalty:.2f}\")\n",
        "    for j in range(num_followers):\n",
        "        old_score = reputation_scores[j]\n",
        "        new_score = min(old_score * 0.8 + reward * 0.2, 6)\n",
        "        new_scores.append(new_score)\n",
        "\n",
        "        if new_score >= old_score:\n",
        "            behaviors.append(\"accept\")\n",
        "        else:\n",
        "            behaviors.append(\"reject\")\n",
        "\n",
        "        print(f\"p={j+1}, his old score {old_score}, has new score={new_score:.2f}, his decision={behaviors[j]}\")\n",
        "\n",
        "    # Count the number of followers who accept the job\n",
        "    num_accept = behaviors.count(\"accept\")\n",
        "    participation = num_accept / num_followers  # Calculate the level of participation\n",
        "    participation_levels.append(participation)  # Add the level of participation to the list\n",
        "    print(f\"Level of participation: {participation:.2f}\")  # Print the level of participation\n",
        "\n",
        "    print(\"----------------------------------------------\")\n",
        "    # Print reward, penalty, and number of participants\n",
        "    print(f\"Reward: {reward:.2f}, Penalty: {penalty:.2f}, Participants: {num_accept}\")\n",
        "    print(\"----------------------------------------------\")\n",
        "\n",
        "    # Append the results to the corresponding lists\n",
        "    rewards.append(reward)\n",
        "    penalties.append(penalty)\n",
        "    num_accepts.append(num_accept)\n",
        "\n",
        "    # Update the number of participants and reputation scores if the optimal number of participants is reached\n",
        "    if num_accept == optimal_participants:\n",
        "        num_participants = num_accept\n",
        "        print(f\"Reward={reward:.2f} and Penalty={penalty:.2f} is the optimal Nash equilibrium\")\n",
        "        # reputation_scores = new_scores\n",
        "        break\n",
        "\n",
        "    elif num_participants < num_accept:\n",
        "        num_participants = num_accept\n",
        "\n",
        "# Print the results\n",
        "if num_participants == optimal_participants:\n",
        "    print(f\"Optimal participants: {num_participants}\")\n",
        "else:\n",
        "    print(f\"Highest number of participants: {num_participants}\")\n",
        "\n",
        "for i in range(len(num_accepts)):\n",
        "    if num_accepts[i] == num_participants:\n",
        "        print(f\"Reward = {rewards[i]:.2f} and Penalty = {penalties[i]:.2f}\")\n",
        "\n",
        "\n",
        "fig, ax = plt.subplots()\n",
        "ax.plot(range(len(num_accepts)), num_accepts, label=\"Number of participants\")\n",
        "ax.plot(range(len(rewards)), rewards, label=\"Reward\")\n",
        "ax.plot(range(len(penalties)), penalties, label=\"Penalty\")\n",
        "#ax.plot(range(len(participation_levels)), participation_levels, label=\"Participation Level\")  # Plot participation levels\n",
        "ax.set_xlabel(\"Iteration\")\n",
        "#ax.set_ylabel(\"Number of participants / Level of participation\")\n",
        "ax.legend()\n",
        "plt.show()\n"
      ]
    }
  ]
}